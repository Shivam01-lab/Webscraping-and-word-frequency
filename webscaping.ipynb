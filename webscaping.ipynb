{
 "cells": [
  {
   "cell_type": "code",
   "execution_count": 5,
   "metadata": {},
   "outputs": [
    {
     "ename": "SyntaxError",
     "evalue": "invalid syntax (1556931453.py, line 37)",
     "output_type": "error",
     "traceback": [
      "\u001b[1;36m  Cell \u001b[1;32mIn[5], line 37\u001b[1;36m\u001b[0m\n\u001b[1;33m    file_path=C:\"\\Users\\admin\\Downloads\\Untitled Folder\\.venv\\webcraping.ipynb\\webscaping.ipynb\"\u001b[0m\n\u001b[1;37m               ^\u001b[0m\n\u001b[1;31mSyntaxError\u001b[0m\u001b[1;31m:\u001b[0m invalid syntax\n"
     ]
    }
   ],
   "source": [
    "import requests\n",
    "from bs4 import BeautifulSoup\n",
    "from collections import Counter\n",
    "\n",
    "\n",
    "def get_letest_python_articles():\n",
    "    url=\"http://www.python.org/\"\n",
    "#bring webpage in vs code by requests library\n",
    "    response=requests.get(url)  \n",
    "\n",
    "#parsing html content by Beautifulsoup library\n",
    "    if response.status_code==200:\n",
    "        soup=BeautifulSoup(response.text,\"html.parser\")\n",
    "        latest_article=[]\n",
    "\n",
    "#extract and save articals in a vairiable\n",
    "        for article in soup.select(\".blog-widget li\"):\n",
    "            title=article.a.text.strip()\n",
    "            latest_article.append(title)\n",
    "\n",
    "        return latest_article\n",
    "    else:\n",
    "        print(f\"fail to retrive information.status code:{response.status_code}\")\n",
    "        return[]\n",
    "\n",
    "python_articles=get_letest_python_articles()\n",
    "\n",
    "#printing of articals with index value\n",
    "\n",
    "if python_articles:\n",
    "    print(\"new news in the python.org section\")\n",
    "    for index,article in enumerate(python_articles,1):\n",
    "        print(f\"{index}.{article}\")\n",
    "else:\n",
    "    print(\"no article found\")\n",
    "def count_word_frequencies():\n",
    "    file_path=C:\"\\Users\\admin\\Downloads\\Untitled Folder\\.venv\\webcraping.ipynb\\webscaping.ipynb\"\n",
    "    with open(file_path,\"r\",encoding=\"utf-8\")    as file:\n",
    "    text_data=file.read()\n",
    "    word= text_data.split()\n",
    "    count_word_frequencies=counter(words)\n",
    "    return count_word_frequencies"
   ]
  }
 ],
 "metadata": {
  "kernelspec": {
   "display_name": "base",
   "language": "python",
   "name": "python3"
  },
  "language_info": {
   "codemirror_mode": {
    "name": "ipython",
    "version": 3
   },
   "file_extension": ".py",
   "mimetype": "text/x-python",
   "name": "python",
   "nbconvert_exporter": "python",
   "pygments_lexer": "ipython3",
   "version": "3.11.5"
  }
 },
 "nbformat": 4,
 "nbformat_minor": 2
}
